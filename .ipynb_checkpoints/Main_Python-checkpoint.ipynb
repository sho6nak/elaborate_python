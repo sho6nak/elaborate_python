{
 "cells": [
  {
   "cell_type": "markdown",
   "metadata": {},
   "source": [
    "# Introduction"
   ]
  },
  {
   "cell_type": "code",
   "execution_count": 1,
   "metadata": {},
   "outputs": [
    {
     "name": "stdout",
     "output_type": "stream",
     "text": [
      "1\n",
      "2 3\n",
      "list: 1 2 3 4\n",
      "2 3 4\n"
     ]
    }
   ],
   "source": [
    "var, var1, var2, var3 = 1,2,3,4\n",
    "print(var)\n",
    "print(var1, var2)\n",
    "values=[1,2,3,4]\n",
    "print(\"list:\",*values, sep=' ', end='\\n')\n",
    "print(var1, var2, var3, sep=' ', end='\\n')\n"
   ]
  },
  {
   "cell_type": "markdown",
   "metadata": {},
   "source": [
    "# 1. List Data Type \n",
    "## List all functions"
   ]
  },
  {
   "cell_type": "code",
   "execution_count": 2,
   "metadata": {},
   "outputs": [
    {
     "name": "stdout",
     "output_type": "stream",
     "text": [
      "[1, 2, 3, 9]\n",
      "[1, 2, 3, 9, 10, 11]\n",
      "[1, 2, 3, 7, 9, 10, 11]\n",
      "[1, 2, 3, 7, 9, 11]\n",
      "11\n",
      "Index: 2\n",
      "Count- 1\n",
      "[9, 7, 3, 2, 1]\n",
      "arr: [1, 1, 2, 2, 3, 3, 4, 4, 4, 5]\n",
      "4\n"
     ]
    }
   ],
   "source": [
    "arr = [1,2,3]\n",
    "arr.append(9)   \n",
    "print(arr)\n",
    "arr.extend([10,11])\n",
    "print(arr)\n",
    "arr.insert(3,7)\n",
    "print(arr)\n",
    "arr.remove(10) \n",
    "print(arr)\n",
    "temp = arr.pop()\n",
    "print(temp)\n",
    "temp = arr.index(3)\n",
    "print(\"Index:\",temp)\n",
    "temp = arr.count(1)\n",
    "print('Count-',temp)\n",
    "arr.reverse()\n",
    "print(arr)\n",
    "arr=list(map(int,[1,1,2,3,4,4,3,4,5,2]))\n",
    "arr.sort()\n",
    "print('arr:',arr)\n",
    "print(arr[-2])"
   ]
  },
  {
   "cell_type": "markdown",
   "metadata": {},
   "source": [
    "## List Comprehensions\n",
    "First Form : [expression-involving-loop-variable for loop-variable in sequence ]\n",
    "<br>Second Form : [expression-involving-loop-variables for outer-loop-variable in outer-sequence for inner-loop-variable in inner-sequence ]\n",
    "<br>Third Form : [expression-involving-loop-variable for loop-variable in sequence if boolean-expression-involving-loop-variable]"
   ]
  },
  {
   "cell_type": "code",
   "execution_count": 3,
   "metadata": {},
   "outputs": [
    {
     "name": "stdout",
     "output_type": "stream",
     "text": [
      "[[0, 0, 0], [0, 0, 1], [0, 1, 0], [1, 0, 0], [1, 1, 1]]\n",
      "[[0, 0, 0], [0, 0, 1], [0, 1, 0], [1, 0, 0], [1, 1, 1]]\n"
     ]
    }
   ],
   "source": [
    "x=1\n",
    "y=1\n",
    "z=1\n",
    "n=2\n",
    "p=[[i,j,k] for i in range(x+1) for j in  range(y+1) for k in range(z+1) if((i+j+k)!=n)]\n",
    "print(p)\n",
    "\n",
    "#Same can be achieved using:\n",
    "list=[]\n",
    "list2=[]\n",
    "for x in range(x+1):\n",
    "    for j in range(y+1):\n",
    "        for z in range(z+1):\n",
    "            if(x+j+z)==n:\n",
    "                continue\n",
    "            else:\n",
    "                list2=[x,j,z]\n",
    "                list.append(list2)\n",
    "print(list[:])"
   ]
  },
  {
   "cell_type": "markdown",
   "metadata": {},
   "source": [
    "## List code to check if element is already present"
   ]
  },
  {
   "cell_type": "markdown",
   "metadata": {},
   "source": [
    "Harry 37.21 \n",
    "Berry 37.21\n",
    "Tina 37.2\n",
    "Akriti 41\n",
    "Harsh 39"
   ]
  },
  {
   "cell_type": "code",
   "execution_count": null,
   "metadata": {},
   "outputs": [],
   "source": [
    "score_list = {}\n",
    "for _ in range(5):\n",
    "    name = input()\n",
    "    score = float(input())\n",
    "    if score in score_list:\n",
    "        score_list[score].append(name)\n",
    "    else:\n",
    "        score_list[score] = [name]\n",
    "new_list = []\n",
    "for i in score_list:\n",
    "    new_list.append([i, score_list[i]])\n",
    "new_list.sort()\n",
    "result = new_list[1][1]\n",
    "result.sort()\n",
    "print (*result, sep = \"\\n\")"
   ]
  },
  {
   "cell_type": "markdown",
   "metadata": {},
   "source": [
    "## Tuple and hash function"
   ]
  },
  {
   "cell_type": "code",
   "execution_count": null,
   "metadata": {},
   "outputs": [],
   "source": [
    "n = 2\n",
    "print(hash(tuple([int(i) for i in input().split()])))\n",
    "\n"
   ]
  },
  {
   "cell_type": "markdown",
   "metadata": {},
   "source": [
    "\n",
    "# 2. String\n",
    "## Mutation:String Split and Join"
   ]
  },
  {
   "cell_type": "code",
   "execution_count": 6,
   "metadata": {},
   "outputs": [
    {
     "ename": "TypeError",
     "evalue": "'list' object is not callable",
     "output_type": "error",
     "traceback": [
      "\u001b[1;31m---------------------------------------------------------------------------\u001b[0m",
      "\u001b[1;31mTypeError\u001b[0m                                 Traceback (most recent call last)",
      "\u001b[1;32m<ipython-input-6-55b3b1d7f4b3>\u001b[0m in \u001b[0;36m<module>\u001b[1;34m\u001b[0m\n\u001b[0;32m      1\u001b[0m \u001b[0mstring\u001b[0m \u001b[1;33m=\u001b[0m \u001b[1;34m\"abracadabra\"\u001b[0m\u001b[1;33m\u001b[0m\u001b[1;33m\u001b[0m\u001b[0m\n\u001b[1;32m----> 2\u001b[1;33m \u001b[0ml\u001b[0m \u001b[1;33m=\u001b[0m \u001b[0mlist\u001b[0m\u001b[1;33m(\u001b[0m\u001b[0mstring\u001b[0m\u001b[1;33m)\u001b[0m\u001b[1;33m\u001b[0m\u001b[1;33m\u001b[0m\u001b[0m\n\u001b[0m\u001b[0;32m      3\u001b[0m \u001b[0ml\u001b[0m\u001b[1;33m[\u001b[0m\u001b[1;36m5\u001b[0m\u001b[1;33m]\u001b[0m \u001b[1;33m=\u001b[0m \u001b[1;34m'k'\u001b[0m\u001b[1;33m\u001b[0m\u001b[1;33m\u001b[0m\u001b[0m\n\u001b[0;32m      4\u001b[0m \u001b[0mstring\u001b[0m \u001b[1;33m=\u001b[0m \u001b[1;34m''\u001b[0m\u001b[1;33m.\u001b[0m\u001b[0mjoin\u001b[0m\u001b[1;33m(\u001b[0m\u001b[0ml\u001b[0m\u001b[1;33m)\u001b[0m\u001b[1;33m\u001b[0m\u001b[1;33m\u001b[0m\u001b[0m\n\u001b[0;32m      5\u001b[0m \u001b[0mprint\u001b[0m\u001b[1;33m(\u001b[0m\u001b[0mstring\u001b[0m\u001b[1;33m)\u001b[0m\u001b[1;33m\u001b[0m\u001b[1;33m\u001b[0m\u001b[0m\n",
      "\u001b[1;31mTypeError\u001b[0m: 'list' object is not callable"
     ]
    }
   ],
   "source": [
    "string = \"abracadabra\"\n",
    "l = list(string)\n",
    "l[5] = 'k'\n",
    "string = ''.join(l)\n",
    "print(string)\n",
    "\n",
    "#or \n",
    "string=\"abracadabra\"\n",
    "string = string[:5] + \"k\" + string[6:]\n",
    "print(string)\n"
   ]
  },
  {
   "cell_type": "markdown",
   "metadata": {},
   "source": [
    "## String Format Funtion"
   ]
  },
  {
   "cell_type": "code",
   "execution_count": null,
   "metadata": {},
   "outputs": [],
   "source": [
    "number = 7\n",
    "width = len(\"{0:b}\".format(number))\n",
    "for i in range(1, number + 1):\n",
    "     print(\"{0:{w}d} {0:{w}o} {0:{w}X} {0:{w}b}\".format(i,w = width))"
   ]
  },
  {
   "cell_type": "markdown",
   "metadata": {},
   "source": [
    "## Text Wrap and Fill \n",
    "textwrap.wrap() :\n",
    "The wrap() function wraps a single paragraph in text (a string) so that every line is width characters long at most.\n",
    "It returns a list of output lines.\n",
    "<br>textwrap.fill() :\n",
    "The fill() function wraps a single paragraph in text and returns a single string containing the wrapped paragraph."
   ]
  },
  {
   "cell_type": "code",
   "execution_count": null,
   "metadata": {},
   "outputs": [],
   "source": [
    "import textwrap\n",
    "string = \"This is a very very very very very long string.\"\n",
    "print(textwrap.wrap(string,8))\n",
    "string = \"This is a very very very very very long string.\"\n",
    "print(textwrap.fill(string,8))"
   ]
  },
  {
   "cell_type": "markdown",
   "metadata": {},
   "source": [
    "## Capitalize"
   ]
  },
  {
   "cell_type": "code",
   "execution_count": null,
   "metadata": {},
   "outputs": [],
   "source": [
    "s = 'chirs alan'\n",
    "p = ' '.join(p.capitalize() for p in s.split(' '))\n",
    "print(p)"
   ]
  },
  {
   "cell_type": "markdown",
   "metadata": {},
   "source": [
    "## Merge and Substring example"
   ]
  },
  {
   "cell_type": "code",
   "execution_count": null,
   "metadata": {},
   "outputs": [],
   "source": [
    "string = 'AABCAAADA'\n",
    "k=3\n",
    "temp = []\n",
    "len_temp = 0\n",
    "for item in string:\n",
    "    len_temp += 1\n",
    "    if item not in temp:\n",
    "        temp.append(item)\n",
    "    if len_temp == k:\n",
    "        print (''.join(temp))\n",
    "        temp = []\n",
    "        len_temp = 0"
   ]
  },
  {
   "cell_type": "markdown",
   "metadata": {},
   "source": [
    "# 3. Sets\n",
    "\n",
    "## Basic operations\n",
    "add - If we want to add a single element to an existing set, we can use the .add() operation. It adds the element to the set and returns 'None'.\n",
    "<br>remove - This operation removes element x from the set. If element  does not exist, it raises a KeyError. The .remove(x) operation returns None.\n",
    "<br>discard - This operation also removes element x from the set. If element x does not exist, it does not raise a KeyError.\n",
    "The .discard(x) operation returns None.\n",
    "<br>pop - This operation removes and return an arbitrary element from the set. If there are no elements to remove, it raises a KeyError."
   ]
  },
  {
   "cell_type": "code",
   "execution_count": null,
   "metadata": {},
   "outputs": [],
   "source": [
    "myset = {1, 2} # Directly assigning values to a set\n",
    "myset = set()  # Initializing a set\n",
    "myset = set(['a', 'b']) # Creating a set from a list\n",
    "print(myset)\n",
    "myset.add('c')\n",
    "print(myset)\n",
    "myset.add('a') # As 'a' already exists in the set, nothing happens\n",
    "myset.add((5, 4))\n",
    "print(myset)\n",
    "myset.update([1, 2, 3, 4]) # update() only works for iterable objects\n",
    "print(myset)\n",
    "myset.update({1, 7, 8})\n",
    "print(myset)\n",
    "myset.update({1, 6}, [5, 13])\n",
    "print(myset)\n",
    "myset.discard(10) # Removing a item\n",
    "print(myset)"
   ]
  },
  {
   "cell_type": "markdown",
   "metadata": {},
   "source": [
    "## Common set operations\n",
    "\n",
    "### union()-\n",
    "The .union() operator returns the union of a set and the set of elements in an iterable.\n",
    "Sometimes, the | operator is used in place of .union() operator, but it operates only on the set of elements in set.\n",
    "Set is immutable to the .union() operation (or | operation)."
   ]
  },
  {
   "cell_type": "code",
   "execution_count": 7,
   "metadata": {},
   "outputs": [
    {
     "name": "stdout",
     "output_type": "stream",
     "text": [
      "{2, 4, 5, 9, 11, 12}\n",
      "{2, 4}\n",
      "{9, 5}\n",
      "{'c', 'r', 'R', 'e', 'H', 'k', 'n', 'a'}\n",
      "{'e', 'H', 'k', 'c', 'r', 'R', 'n', 'a'}\n",
      "{'c', 'r', 'R', 'e', 'H', 'k', 'n', 'a'}\n",
      "{(2, 'n'), 'e', 'H', (3, 'k'), 'k', 'r', 'a', (0, 'R'), (1, 'a'), 'c'}\n",
      "{'c', 'r', 'e', 'H', 'k', 'Rank', 'a'}\n"
     ]
    },
    {
     "data": {
      "text/plain": [
       "{'H', 'R', 'a', 'c', 'e', 'k', 'n', 'r'}"
      ]
     },
     "execution_count": 7,
     "metadata": {},
     "output_type": "execute_result"
    }
   ],
   "source": [
    "a = {2, 4, 5, 9}\n",
    "b = {2, 4, 11, 12}\n",
    "print(a.union(b)) # Values which exist in a or b\n",
    "print(a.intersection(b)) # Values which exist in a and b\n",
    "print(a.difference(b)) # Values which exist in a but not in b\n",
    "\n",
    "#UNION\n",
    "s = set(\"Hacker\")\n",
    "\n",
    "print(s.union(\"Rank\"))\n",
    "\n",
    "print(s.union(set(['R', 'a', 'n', 'k'])))\n",
    "\n",
    "print(s.union(['R', 'a', 'n', 'k']))\n",
    "\n",
    "print(s.union(enumerate(['R', 'a', 'n', 'k'])))\n",
    "\n",
    "print(s.union({\"Rank\":1}))\n",
    "\n",
    "s | set(\"Rank\")\n",
    "\n"
   ]
  },
  {
   "cell_type": "markdown",
   "metadata": {},
   "source": [
    "### intersection() - \n",
    "operator returns the intersection of a set and the set of elements in an iterable.\n",
    "Sometimes, the & operator is used in place of the .intersection() operator, but it only operates on the set of elements in set.\n",
    "The set is immutable to the .intersection() operation (or & operation).\n"
   ]
  },
  {
   "cell_type": "code",
   "execution_count": 8,
   "metadata": {},
   "outputs": [
    {
     "name": "stdout",
     "output_type": "stream",
     "text": [
      "{'k', 'a'}\n",
      "{'k', 'a'}\n",
      "{'k', 'a'}\n",
      "set()\n",
      "set()\n"
     ]
    },
    {
     "data": {
      "text/plain": [
       "{'a', 'k'}"
      ]
     },
     "execution_count": 8,
     "metadata": {},
     "output_type": "execute_result"
    }
   ],
   "source": [
    "#Intersection\n",
    "s = set(\"Hacker\")\n",
    "\n",
    "print(s.intersection(\"Rank\"))\n",
    "\n",
    "print(s.intersection(set(['R', 'a', 'n', 'k'])))\n",
    "\n",
    "print(s.intersection(['R', 'a', 'n', 'k']))\n",
    "\n",
    "print(s.intersection(enumerate(['R', 'a', 'n', 'k'])))\n",
    "\n",
    "print(s.intersection({\"Rank\":1}))\n",
    "\n",
    "s & set(\"Rank\")"
   ]
  },
  {
   "cell_type": "markdown",
   "metadata": {},
   "source": [
    "### difference() - \n",
    "The tool .difference() returns a set with all the elements from the set that are not in an iterable.\n",
    "Sometimes the - operator is used in place of the .difference() tool, but it only operates on the set of elements in set.\n",
    "Set is immutable to the .difference() operation (or the - operation).\n",
    "\n",
    "### symmetric_difference()\n",
    "The .symmetric_difference() operator returns a set with all the elements that are in the set and the iterable but not both.\n",
    "Sometimes, a ^ operator is used in place of the .symmetric_difference() tool, but it only operates on the set of elements in set.\n",
    "The set is immutable to the .symmetric_difference() operation (or ^ operation)."
   ]
  },
  {
   "cell_type": "code",
   "execution_count": 9,
   "metadata": {},
   "outputs": [
    {
     "name": "stdout",
     "output_type": "stream",
     "text": [
      "{'c', 'r', 'e', 'H'}\n",
      "{'c', 'e', 'r', 'H'}\n",
      "{'c', 'r', 'e', 'H'}\n",
      "{'c', 'r', 'e', 'H', 'k', 'a'}\n",
      "{'e', 'H', 'k', 'c', 'r', 'a'}\n",
      "{'e', 'H', 'R', 'c', 'r', 'n'}\n"
     ]
    }
   ],
   "source": [
    "s = set(\"Hacker\")\n",
    "print(s.difference(\"Rank\"))\n",
    "\n",
    "print(s.difference(set(['R', 'a', 'n', 'k'])))\n",
    "\n",
    "print(s.difference(['R', 'a', 'n', 'k']))\n",
    "\n",
    "print(s.difference(enumerate(['R', 'a', 'n', 'k'])))\n",
    "\n",
    "print(s.difference({\"Rank\":1}))\n",
    "\n",
    "s - set(\"Rank\")\n",
    "\n",
    "s = set(\"Hacker\")\n",
    "\n",
    "print(s.symmetric_difference(\"Rank\"))"
   ]
  },
  {
   "cell_type": "markdown",
   "metadata": {},
   "source": [
    "## SET mutiation - \n",
    ".update() or |=\n",
    "Update the set by adding elements from an iterable/another set.\n",
    "<br>.intersection_update() or &=\n",
    "Update the set by keeping only the elements found in it and an iterable/another set.\n",
    "<br>.difference_update() or -=\n",
    "Update the set by removing elements found in an iterable/another set.\n",
    "<br>.symmetric_difference_update() or ^=\n",
    "Update the set by only keeping the elements found in either set, but not in both."
   ]
  },
  {
   "cell_type": "code",
   "execution_count": 10,
   "metadata": {},
   "outputs": [
    {
     "name": "stdout",
     "output_type": "stream",
     "text": [
      "{'e', 'H', 'k', 'c', 'r', 'R', 'n', 'a'}\n",
      "{'k', 'a'}\n",
      "{'e', 'H', 'c', 'r'}\n",
      "{'e', 'H', 'c', 'r', 'R', 'n'}\n"
     ]
    }
   ],
   "source": [
    "H = set(\"Hacker\")\n",
    "R = set(\"Rank\")\n",
    "H.update(R)\n",
    "print(H)\n",
    "H = set(\"Hacker\")\n",
    "R = set(\"Rank\")\n",
    "H.intersection_update(R)\n",
    "print(H)\n",
    "H = set(\"Hacker\")\n",
    "R = set(\"Rank\")\n",
    "H.difference_update(R)\n",
    "print(H)\n",
    "H = set(\"Hacker\")\n",
    "R = set(\"Rank\")\n",
    "H.symmetric_difference_update(R)\n",
    "print(H)"
   ]
  },
  {
   "cell_type": "markdown",
   "metadata": {},
   "source": [
    "### Subset and Strict superset\n",
    "(<=) can be used to find subset\n",
    "(>) can be used to find strict superset"
   ]
  },
  {
   "cell_type": "code",
   "execution_count": null,
   "metadata": {},
   "outputs": [],
   "source": [
    "for i in range(int(input())): \n",
    "    a = int(input()); A = set(input().split()); \n",
    "    b = int(input()); B = set(input().split());\n",
    "    print(A <= B)\n",
    "    \n",
    "a = set(map(int,input().split()))\n",
    "print(all(a > set(input().split()) for i in range(int(input()))))\n",
    "    "
   ]
  },
  {
   "cell_type": "markdown",
   "metadata": {},
   "source": [
    "# 4.Math\n",
    "\n",
    "## Functions"
   ]
  },
  {
   "cell_type": "code",
   "execution_count": null,
   "metadata": {},
   "outputs": [],
   "source": [
    "a,b,c=3,4,5\n",
    "print(pow(a,b))\n",
    "print(pow(a,b,c)) #a ^^ b mod c\n",
    "print(divmod(177,10)) #a//b a%b"
   ]
  },
  {
   "cell_type": "markdown",
   "metadata": {},
   "source": [
    "# 5.Itertools"
   ]
  },
  {
   "cell_type": "markdown",
   "metadata": {},
   "source": [
    "## Cartesian product"
   ]
  },
  {
   "cell_type": "code",
   "execution_count": null,
   "metadata": {},
   "outputs": [],
   "source": [
    "from itertools import product\n",
    "print(list(product([1,2,3],repeat = 2)))\n",
    "#print(list(product([1,2,3],[3,4])))\n",
    "#A = [[1,2,3],[3,4,5]]\n",
    "#print(list(product(*A)))"
   ]
  },
  {
   "cell_type": "markdown",
   "metadata": {},
   "source": [
    "## Permutation and combinations"
   ]
  },
  {
   "cell_type": "code",
   "execution_count": null,
   "metadata": {},
   "outputs": [],
   "source": [
    "from itertools import *\n",
    "#print(list(permutations(['1','2','3'])))\n",
    "print(list(permutations(['1','2','3'],2)))\n",
    "print(list(combinations('123',2)))\n",
    "print(list(combinations_with_replacement('123',2)))"
   ]
  },
  {
   "cell_type": "markdown",
   "metadata": {},
   "source": [
    "## Itertools groupby function"
   ]
  },
  {
   "cell_type": "code",
   "execution_count": null,
   "metadata": {},
   "outputs": [],
   "source": [
    "from itertools import groupby\n",
    "for i,j in groupby([1,2,2,2,3,1,1]):\n",
    "    print(tuple([len(list(j)), i]) ,end = \" \")"
   ]
  },
  {
   "cell_type": "markdown",
   "metadata": {},
   "source": [
    "## Probability calcualtion and tuple unpack"
   ]
  },
  {
   "cell_type": "code",
   "execution_count": null,
   "metadata": {},
   "outputs": [],
   "source": [
    "from itertools import combinations\n",
    "n = 4\n",
    "ar = \"aacd\"\n",
    "k = 2\n",
    "comb_list = list(combinations(ar,k))\n",
    "a_list = [e for e in comb_list if 'a' in e]\n",
    "print(len(a_list) / len(comb_list))"
   ]
  },
  {
   "cell_type": "markdown",
   "metadata": {},
   "source": [
    "# 6. Collections"
   ]
  },
  {
   "cell_type": "markdown",
   "metadata": {},
   "source": [
    "##  Counter()-\n",
    "A counter is a container that stores elements as dictionary keys, and their counts are stored as dictionary values."
   ]
  },
  {
   "cell_type": "code",
   "execution_count": null,
   "metadata": {},
   "outputs": [],
   "source": [
    "from collections import Counter\n",
    "myList = [1,1,2,3,4,5,3,2,3,4,2,1,2,3]\n",
    "print(Counter(myList))\n",
    "print(Counter(myList).items())\n",
    "print(Counter(myList).keys())\n",
    "print(Counter(myList).values())"
   ]
  },
  {
   "cell_type": "code",
   "execution_count": null,
   "metadata": {},
   "outputs": [],
   "source": [
    "dict={1:2,2:3,4:5,5:6}\n",
    "list=[[1,2,3,4]]\n",
    "\n",
    "print(sum(a for i in list for a in i)+sum(a+b for a,b in dict.items()))\n",
    "print()\n"
   ]
  },
  {
   "cell_type": "markdown",
   "metadata": {},
   "source": [
    "## Ordered Dictionary -\n",
    "OrderedDict-\n",
    "An OrderedDict is a dictionary that remembers the order of the keys that were inserted first. If a new entry overwrites an existing entry, the original insertion position is left unchanged."
   ]
  },
  {
   "cell_type": "code",
   "execution_count": null,
   "metadata": {},
   "outputs": [],
   "source": [
    "from collections import OrderedDict\n",
    "#Normal Dict\n",
    "dict={}\n",
    "dict['a']=8\n",
    "dict['b']=9\n",
    "dict['c']=10\n",
    "dict['c']=10\n",
    "print('Dict:',dict)\n",
    "ordered_dictionary = OrderedDict()\n",
    "ordered_dictionary['a'] = 1\n",
    "ordered_dictionary['b'] = 2\n",
    "ordered_dictionary['c'] = 3\n",
    "ordered_dictionary['d'] = 4\n",
    "ordered_dictionary['e'] = 5\n",
    "ordered_dictionary['a'] = 6 \n",
    "print(ordered_dictionary)"
   ]
  },
  {
   "cell_type": "markdown",
   "metadata": {},
   "source": [
    "# 7. Error and Exceptions"
   ]
  },
  {
   "cell_type": "code",
   "execution_count": null,
   "metadata": {},
   "outputs": [],
   "source": [
    "try:\n",
    "    print(int(2)//int(0))\n",
    "    print(int(2)//int('#'))\n",
    "except Exception as e:\n",
    "    print(\"Error Code: \"+str(e))\n"
   ]
  },
  {
   "cell_type": "code",
   "execution_count": null,
   "metadata": {},
   "outputs": [],
   "source": [
    "#Incorrect regex\n",
    "import re\n",
    "s=434#2\n",
    "try:\n",
    "    re.compile(s)\n",
    "    print(True)\n",
    "except Exception as e:\n",
    "    print(False)"
   ]
  },
  {
   "cell_type": "markdown",
   "metadata": {},
   "source": [
    "# 8. Built-Ins"
   ]
  },
  {
   "cell_type": "markdown",
   "metadata": {},
   "source": [
    "##  Zip\n",
    "zip([iterable, ...])\n",
    "\n",
    "This function returns a list of tuples. The th tuple contains the th element from each of the argument sequences or iterables.\n",
    "\n",
    "If the argument sequences are of unequal lengths, then the returned list is truncated to the length of the shortest argument sequence."
   ]
  },
  {
   "cell_type": "code",
   "execution_count": null,
   "metadata": {},
   "outputs": [],
   "source": [
    "A = [1,2,3]\n",
    "B = [6,5,4]\n",
    "C = [7,8,9]\n",
    "X = [A] + [B] + [C]\n",
    "print(X)\n",
    "print(list(zip([1,2,3,4,5,6],[0,9,8,7,6,5,4,3,2,1])))\n",
    "print(list(zip(X)))\n",
    "print(list(zip(*X)))"
   ]
  },
  {
   "cell_type": "markdown",
   "metadata": {},
   "source": [
    "## Any All function "
   ]
  },
  {
   "cell_type": "code",
   "execution_count": null,
   "metadata": {},
   "outputs": [],
   "source": [
    "S = \"Ab4chd\"\n",
    "print(any([char.isalnum() for char in S]))\n",
    "print(all([char.isalpha() for char in S]))\n",
    "print(any([char.isdigit() for char in S]))\n",
    "print(any([char.islower() for char in S]))\n",
    "print(any([char.isupper() for char in S]))\n",
    "s= ['12','9','61','5','14']\n",
    "print(all([int(i)>0 for i in s]) and any([(i[::-1]==i) for i in s]))"
   ]
  },
  {
   "cell_type": "markdown",
   "metadata": {},
   "source": [
    "## Sorting"
   ]
  },
  {
   "cell_type": "markdown",
   "metadata": {},
   "source": [
    "The details are sorted based on the second attribute.\n",
    "List of lists of data.\n",
    "10 2 5\n",
    "7 1 0\n",
    "9 9 9\n",
    "1 23 12\n",
    "6 5 9"
   ]
  },
  {
   "cell_type": "code",
   "execution_count": null,
   "metadata": {},
   "outputs": [],
   "source": [
    "arr = [[10, 2, 5], [7, 1, 0], [9, 9, 9], [1, 23, 12], [6, 5, 9]]\n",
    "for a in sorted(arr, key= lambda x: x[1]):\n",
    "    [print(b,end=' ') for b in a ]\n",
    "    print('')"
   ]
  },
  {
   "cell_type": "markdown",
   "metadata": {},
   "source": [
    "String contains alphanumeric characters only.\n",
    "Your task is to sort the string  in the following manner:\n",
    "All sorted lowercase letters are ahead of uppercase letters.\n",
    "All sorted uppercase letters are ahead of digits.\n",
    "All sorted odd digits are ahead of sorted even digits."
   ]
  },
  {
   "cell_type": "code",
   "execution_count": null,
   "metadata": {},
   "outputs": [],
   "source": [
    "print(*(sorted('Sorting1234', key= lambda x: (x.isdigit() and int(x)%2==0, x.isdigit(),x.isupper(),x.islower(),x))),sep='')\n"
   ]
  },
  {
   "cell_type": "markdown",
   "metadata": {},
   "source": [
    "# 9. Python Functionals"
   ]
  },
  {
   "cell_type": "markdown",
   "metadata": {},
   "source": [
    "## Map and lamda function\n",
    "map()-The map() function applies a function to every member of an iterable and returns the result. It takes two parameters: first, the function that is to be applied and secondly, the iterables.\n",
    "Let's say you are given a list of names, and you have to print a list that contains the length of each name.\n",
    "<br>lambda- Lambda is a single expression anonymous function often used as an inline function. In simple words, it is a function that has only one line in its body. It proves very handy in functional and GUI programming"
   ]
  },
  {
   "cell_type": "code",
   "execution_count": null,
   "metadata": {},
   "outputs": [],
   "source": [
    "print (list(map(len, ['Tina', 'Raj', 'Tom'])))  \n",
    "sum = lambda a, b, c: a + b + c\n",
    "print(sum(1, 2, 3))"
   ]
  },
  {
   "cell_type": "markdown",
   "metadata": {},
   "source": [
    "## Filter\n",
    "A filter takes a function returning True or False and applies it to a sequence, returning a list of only those members of the sequence where the function returned True. A Lambda function can be used with filters."
   ]
  },
  {
   "cell_type": "code",
   "execution_count": null,
   "metadata": {},
   "outputs": [],
   "source": [
    "l = list(range(10))\n",
    "l = list(map(lambda x:x*x, l))\n",
    "l = list(filter(lambda x: x > 10 and x < 80, l))\n",
    "print(l)"
   ]
  },
  {
   "cell_type": "markdown",
   "metadata": {},
   "source": [
    "## Reduce\n",
    "The reduce() function applies a function of two arguments cumulatively on a list of objects in succession from left to right to reduce it to one value. Say you have a list, say [1,2,3] and you have to find its sum."
   ]
  },
  {
   "cell_type": "code",
   "execution_count": null,
   "metadata": {},
   "outputs": [],
   "source": [
    "from functools import reduce\n",
    "print(reduce(lambda x, y : x + y,[1,2,3]))\n",
    "print(reduce(lambda x, y : x + y, [1,2,3], -3))\n",
    "from math import gcd\n",
    "reduce(gcd, [2,4,8], 3)"
   ]
  },
  {
   "cell_type": "markdown",
   "metadata": {},
   "source": [
    "# 10.Regular Expression"
   ]
  },
  {
   "cell_type": "markdown",
   "metadata": {},
   "source": [
    "## Match() and Search() \n",
    "The re.search() expression scans through a string looking for the first location where the regex pattern produces a match.\n",
    "It either returns a MatchObject instance or returns None if no position in the string matches the pattern.\n",
    "<br>The re.match() expression only matches at the beginning of the string.\n",
    "It either returns a MatchObject instance or returns None if the string does not match the pattern."
   ]
  },
  {
   "cell_type": "code",
   "execution_count": null,
   "metadata": {},
   "outputs": [],
   "source": [
    "import re\n",
    "for i in range(4):\n",
    "    list=['4.0O0','-1.00','+4.54','SomeRandomStuff']\n",
    "    print(bool(re.match(r'^[+,-]?\\d*?\\.\\d+$',list[i])))\n"
   ]
  },
  {
   "cell_type": "markdown",
   "metadata": {},
   "source": [
    "## Split()\n",
    "The re.split() expression splits the string by occurrence of a pattern."
   ]
  },
  {
   "cell_type": "code",
   "execution_count": null,
   "metadata": {},
   "outputs": [],
   "source": [
    "regex_pattern = r\"[,.]\"\t# Do not delete 'r'.\n",
    "\n",
    "import re\n",
    "print(\"\\n\".join(re.split(regex_pattern, '100,000,000.000')))"
   ]
  },
  {
   "cell_type": "markdown",
   "metadata": {},
   "source": [
    "## Group(),Groups(),Groupdict()\n",
    "A group() expression returns one or more subgroups of the match.\n",
    "<br>A groups() expression returns a tuple containing all the subgroups of the match.\n",
    "<br>A groupdict() expression returns a dictionary containing all the named subgroups of the match, keyed by the subgroup name."
   ]
  },
  {
   "cell_type": "code",
   "execution_count": null,
   "metadata": {},
   "outputs": [],
   "source": [
    "import re\n",
    "m = re.match(r'(\\w+)@(\\w+)\\.(\\w+)','username@hackerrank.com')\n",
    "print(m.group(0))\n",
    "print(m.group(1))\n",
    "print(m.groups())\n",
    "m = re.match(r'(?P<user>\\w+)@(?P<website>\\w+)\\.(?P<extension>\\w+)','myname@hackerrank.com')\n",
    "print(m.groupdict())\n",
    "\n",
    "# BackTracking\n",
    "m = re.search(r'([a-zA-Z0-9])\\1+', '12345678910111213141516171820212223')\n",
    "print(m.group(1) if m else -1)"
   ]
  },
  {
   "cell_type": "markdown",
   "metadata": {},
   "source": [
    "## findall(),finditer()\n",
    "re.findall()\n",
    "The expression re.findall() returns all the non-overlapping matches of patterns in a string as a list of strings.\n",
    "<br>re.finditer()\n",
    "The expression re.finditer() returns an iterator yielding MatchObject instances over all non-overlapping matches for the re pattern in the string."
   ]
  },
  {
   "cell_type": "code",
   "execution_count": null,
   "metadata": {},
   "outputs": [],
   "source": [
    "import re\n",
    "print(re.findall(r'\\w','http://www.hackerrank.com/'))\n",
    "print(re.finditer(r'\\w','http://www.hackerrank.com/'))\n",
    "print(list(map(lambda x: x.group(),re.finditer(r'\\w','http://www.hackerrank.com/'))))\n",
    "#Lookahead and lookbehind\n",
    "consonants = 'qwrtypsdfghjklzxcvbnm'\n",
    "vowels = 'aeiou'\n",
    "match = re.findall(r'(?<=['+consonants+'])(['+vowels+']{2,})(?=['+consonants+'])','rabcdeefgyYhFjkIoomnpOeorteeeeet',flags = re.I)\n",
    "if match:\n",
    "    for i in match:\n",
    "        print(i)\n",
    "else:\n",
    "    print -1"
   ]
  },
  {
   "cell_type": "markdown",
   "metadata": {},
   "source": [
    "## start() & end()\n",
    "These expressions return the indices of the start and end of the substring matched by the group."
   ]
  },
  {
   "cell_type": "code",
   "execution_count": null,
   "metadata": {},
   "outputs": [],
   "source": [
    "import re\n",
    "m = re.search(r'\\d+','1234')\n",
    "print(m.end())\n",
    "print(m.start())\n",
    "#Use of findIter \n",
    "import re\n",
    "S = 'aaadaa'\n",
    "k =  'aa'\n",
    "anymatch = 'No'\n",
    "for m in re.finditer(r'(?=('+k+'))',S):\n",
    "    anymatch = 'Yes'\n",
    "    print((m.start(1),m.end(1)-1))\n",
    "if anymatch == 'No':\n",
    "    print((-1, -1))"
   ]
  },
  {
   "cell_type": "markdown",
   "metadata": {},
   "source": [
    "## sub()\n",
    "The re.sub() tool (sub stands for substitution) evaluates a pattern and, for each valid match, it calls a method (or lambda).\n",
    "The method is called for all matches and can be used to modify strings in different ways.\n",
    "The re.sub() method returns the modified string as an output."
   ]
  },
  {
   "cell_type": "code",
   "execution_count": null,
   "metadata": {},
   "outputs": [],
   "source": [
    "import re\n",
    "\n",
    "#Squaring numbers\n",
    "def square(match):\n",
    "    number = int(match.group(0))\n",
    "    return str(number**2)\n",
    "\n",
    "print(re.sub(r\"\\d+\", square, \"1 2 3 4 5 6 7 8 9\"))"
   ]
  },
  {
   "cell_type": "markdown",
   "metadata": {},
   "source": [
    "### A valid postal code  have to fullfil both below requirements:\n",
    " must be a number in the range from  to  inclusive.\n",
    " <br>must not contain more than one alternating repetitive digit pair.\n",
    " <br>121426 # Here, 1 is an alternating repetitive digit.\n",
    "<br>523563 # Here, NO digit is an alternating repetitive digit.\n",
    "<br>552523 # Here, both 2 and 5 are alternating repetitive digits."
   ]
  },
  {
   "cell_type": "code",
   "execution_count": null,
   "metadata": {},
   "outputs": [],
   "source": [
    "import re\n",
    "P = '110000'\n",
    "print(len(re.findall(r'(?=(\\d)\\d\\1)',P)) < 2 and bool(re.match(r'^[1-9][0-9]{5}$',P)))"
   ]
  },
  {
   "cell_type": "markdown",
   "metadata": {},
   "source": [
    "# 11. Numpy Array\n"
   ]
  },
  {
   "cell_type": "markdown",
   "metadata": {},
   "source": [
    "## Arrays\n",
    "\n",
    "A NumPy array is a grid of values. They are similar to lists, except that every element of an array must be the same type."
   ]
  },
  {
   "cell_type": "code",
   "execution_count": null,
   "metadata": {},
   "outputs": [],
   "source": [
    "import numpy\n",
    "\n",
    "a = numpy.array([1,2,3,4,5])\n",
    "print(a[1])      \n",
    "\n",
    "b = numpy.array([1,2,3,4,5],float)\n",
    "print(b[1])        "
   ]
  },
  {
   "cell_type": "code",
   "execution_count": null,
   "metadata": {},
   "outputs": [],
   "source": []
  }
 ],
 "metadata": {
  "kernelspec": {
   "display_name": "Python 3",
   "language": "python",
   "name": "python3"
  },
  "language_info": {
   "codemirror_mode": {
    "name": "ipython",
    "version": 3
   },
   "file_extension": ".py",
   "mimetype": "text/x-python",
   "name": "python",
   "nbconvert_exporter": "python",
   "pygments_lexer": "ipython3",
   "version": "3.8.3"
  }
 },
 "nbformat": 4,
 "nbformat_minor": 4
}
